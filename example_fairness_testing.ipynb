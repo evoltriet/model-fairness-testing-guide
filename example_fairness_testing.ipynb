{
 "cells": [
  {
   "cell_type": "markdown",
   "id": "e0db82b3",
   "metadata": {},
   "source": [
    "# Model Fairness Testing\n",
    "Objective #1: Test an example dental model for fairness and biases.\n",
    "\n",
    "Objective #2: Streamline notebook for reuse when fairness testing of other models."
   ]
  },
  {
   "cell_type": "code",
   "execution_count": 58,
   "id": "dcb2d703",
   "metadata": {},
   "outputs": [],
   "source": [
    "#General imports\n",
    "import os\n",
    "import sys, os\n",
    "import pandas as pd\n",
    "import numpy as np\n",
    "import matplotlib.pyplot as plt\n",
    "from IPython.display import display\n",
    "import time\n",
    "\n",
    "#Project specific imports\n",
    "from sklearn.metrics import (\n",
    "    accuracy_score,\n",
    "    precision_score,\n",
    "    recall_score,\n",
    ")\n",
    "from fairlearn.metrics import (\n",
    "    MetricFrame,\n",
    "    count,\n",
    "    false_negative_rate,\n",
    "    false_positive_rate,\n",
    "    true_positive_rate,\n",
    "    selection_rate\n",
    ")\n",
    "import pickle\n",
    "import warnings\n",
    "\n",
    "\n",
    "## local import\n",
    "from utils import fairness_intervention as fi\n",
    "from utils import visualisation_functions as vf \n",
    "import importlib\n",
    "importlib.reload(fi)\n",
    "\n",
    "%matplotlib inline\n",
    "warnings.filterwarnings('ignore')\n",
    "pd.set_option('display.max_colwidth', 200)\n",
    "pd.set_option('display.max_columns', 100)\n",
    "pd.set_option('display.max_rows', 200)"
   ]
  },
  {
   "cell_type": "markdown",
   "id": "8a282ebc",
   "metadata": {},
   "source": [
    "## Getting Started\n",
    "\n",
    "__Expected Data Format__:\n",
    "In order to use Fairlearn, we'll need to compare your model's predicted vs actual across different groups so the data coming into this notebook should look something like this:\n",
    "\n",
    "\n",
    "|column1| column2 | ... | y_true | y_pred\n",
    "|----|----|----|----|----|\n",
    "|val|val|...| 1 | 1 |\n",
    "|val|val|...| 0 | 1 |\n",
    "\n",
    "\n",
    "\n",
    "__Sections__:\n",
    "1. Use Case Design\n",
    "2. Fairness Testing\n",
    "    - part a: gender\n",
    "    - part b: race\n",
    "    - part c: age\n",
    "    - part d: socioeconomic status\n",
    "    - part e: geography\n",
    "    - part f: other sensitive features\n",
    "3. Other toolings/frameworks to consider\n",
    "\n",
    "\n",
    "\n",
    "<div class=\"alert alert-block alert-info\">\n",
    "Pay special attention to Info blocks highlighted in blue. They provide crucial information about fairness testing.\n",
    "</div>\n",
    "\n",
    "<div class=\"alert alert-block alert-success\">\n",
    "Conclusions about some results & other comments will be highlighted in green.\n",
    "</div>"
   ]
  },
  {
   "cell_type": "code",
   "execution_count": 2,
   "id": "74f4f172",
   "metadata": {},
   "outputs": [
    {
     "data": {
      "text/plain": [
       "(8551, 62)"
      ]
     },
     "execution_count": 2,
     "metadata": {},
     "output_type": "execute_result"
    }
   ],
   "source": [
    "# Load data\n",
    "xrays_metadata_loc = '/mnt/azureblobshare/data/raw/nea-dental/final_join_single_crowns_xrays.pkl'\n",
    "xrays_testpred_loc = 'results.pkl'\n",
    "xrays_metadata = pd.read_pickle(xrays_metadata_loc)\n",
    "xrays_testpred = pd.read_pickle(xrays_testpred_loc)\n",
    "\n",
    "# Join metadata with test set predictions\n",
    "xrays_metadata = pd.merge(xrays_metadata, xrays_testpred, left_on=  ['Claim ID'],\n",
    "                   right_on= ['filenames'], \n",
    "                   how = 'inner')\n",
    "xrays_metadata.shape"
   ]
  },
  {
   "cell_type": "code",
   "execution_count": null,
   "id": "d91ddec9",
   "metadata": {},
   "outputs": [],
   "source": [
    "xrays_metadata[['Claim ID', 'filenames', 'test_y', 'predict_y']].sample(3)"
   ]
  },
  {
   "cell_type": "code",
   "execution_count": 18,
   "id": "8a3dc6a1",
   "metadata": {},
   "outputs": [],
   "source": [
    "## Do your data filtering here\n",
    "\n",
    "## drop a row where DOB is falsely entered\n",
    "xrays_metadata = xrays_metadata[xrays_metadata['PATIENT_DOB'] != ('0001-01-01')]\n"
   ]
  },
  {
   "cell_type": "code",
   "execution_count": 50,
   "id": "053ef2b0",
   "metadata": {},
   "outputs": [],
   "source": [
    "## Indicate your Actual and Predicted columns & convert them to binary 1s and 0s\n",
    "y_true = pd.Series(np.where(xrays_metadata['test_y'].values == 1, 1, 0),\n",
    "          xrays_metadata.index)\n",
    "y_pred = pd.Series(np.where(xrays_metadata['predict_y'].values >= .99, 1, 0),\n",
    "          xrays_metadata.index) \n"
   ]
  },
  {
   "cell_type": "markdown",
   "id": "ee1c752e",
   "metadata": {},
   "source": [
    "## Section 1. Use Case Design\n",
    "As part of the AI Review Board process, one of the first thing you will be asked about is the design of your use case. It is good to start out by very clearly defining this. Here are some questions to answer."
   ]
  },
  {
   "cell_type": "markdown",
   "id": "16e71a92",
   "metadata": {},
   "source": [
    "#### Question 1. How will the model be used? Including the system in which it will operate and the intended users of the output created by the model."
   ]
  },
  {
   "cell_type": "markdown",
   "id": "218ae0f0",
   "metadata": {},
   "source": [
    "<div class=\"alert alert-block alert-success\">\n",
    "The dental model looks at x-ray images, and automatically approve dental claims based on the x-ray. If a claim is not approved by the model, it goes to a human reviewer. This means that we will try to optimize the model's precision by minimizing false positives.\n",
    "</div>"
   ]
  },
  {
   "cell_type": "markdown",
   "id": "8a805478",
   "metadata": {},
   "source": [
    "#### Question 2. Describe the benefits, potential human impacts whether directly or indirectly as a result of using this model."
   ]
  },
  {
   "cell_type": "markdown",
   "id": "c233a08b",
   "metadata": {},
   "source": [
    "<div class=\"alert alert-block alert-success\">\n",
    "The model helps to automate dental claims processing by automatically approving certain claims based on x-ray image data.\n",
    "</div>"
   ]
  },
  {
   "cell_type": "markdown",
   "id": "fd31eee3",
   "metadata": {},
   "source": [
    "#### Question 3. Identify potential risks that could be created in the case that the ML operates as intended, does not operate as intended, or is misused or abused."
   ]
  },
  {
   "cell_type": "markdown",
   "id": "06422db3",
   "metadata": {},
   "source": [
    "<div class=\"alert alert-block alert-success\">\n",
    "A high false positive rate in the model may end up costing the company money on claims that shouldn't have been approved.\n",
    "</div>"
   ]
  },
  {
   "cell_type": "markdown",
   "id": "ac7b8d9e",
   "metadata": {},
   "source": [
    "## Section 2. Fairness Testing\n",
    "This section is divided into multiple parts each dealing with different sensitive features.\n",
    "<div class=\"alert alert-block alert-info\">\n",
    "Info: Even if your model does not use these sensitive features as input, you still need to test them for fairness because other input features might latently have correlated bias with these sensitive features. For example, dental bitewing X-rays of female vs male will inherently have gender differences because studies show male teeth are statistically larger in size anatomically.\n",
    "</div>"
   ]
  },
  {
   "cell_type": "code",
   "execution_count": 66,
   "id": "890c0c3e",
   "metadata": {},
   "outputs": [],
   "source": [
    "# utility function to explore metrics by group\n",
    "def get_metrics_by_group(metrics, group, y_true, y_pred):\n",
    "    metric_frame = MetricFrame(metrics=metrics,\n",
    "                           y_true=y_true,\n",
    "                           y_pred=y_pred,\n",
    "                           sensitive_features=group)\n",
    "\n",
    "    metric_frame.by_group.plot.bar(\n",
    "        subplots=True,\n",
    "        layout=[3, 3],\n",
    "        legend=False,\n",
    "        figsize=[12, 8],\n",
    "        title=\"Show all metrics\",\n",
    "    )\n",
    "\n",
    "# metrics to explore\n",
    "metrics = {\n",
    "    'accuracy': accuracy_score,\n",
    "    'precision': precision_score,\n",
    "    'recall': recall_score,\n",
    "    'false positive rate': false_positive_rate,\n",
    "    'false negative rate': false_negative_rate,\n",
    "    'selection rate': selection_rate,\n",
    "    'count': count}"
   ]
  },
  {
   "cell_type": "markdown",
   "id": "44567b8a",
   "metadata": {},
   "source": [
    "<div class=\"alert alert-block alert-info\">\n",
    "In general for the metrics, we mainly want to be looking for imbalance in the selection rate, false positive rate, and false negative rate.\n",
    "    <br><br>\n",
    "    selection rate: The percentage of data with a positive label within that group.<br>\n",
    "    false positive rate: The percentage of data that was incorrectly predicted positive.<br>\n",
    "    false negative rate: The percentage of data that was incorrectly predicted negative.<br>\n",
    "<br>\n",
    "For example when analyzing the gender group if we see a high selection rate as well as a high false positive rate for male, that means the model has a incorrect bias toward male.\n",
    "</div>"
   ]
  },
  {
   "cell_type": "markdown",
   "id": "6941287a",
   "metadata": {},
   "source": [
    "### Part a: Gender"
   ]
  },
  {
   "cell_type": "markdown",
   "id": "b9a0b78f",
   "metadata": {},
   "source": [
    "<div class=\"alert alert-block alert-success\">\n",
    "Here is an example of using the gender-guesser library to impute the gender data from patient first name. Self-reported data is always better though, so you should look for ways to obtain it before using imputation methods.\n",
    "</div>"
   ]
  },
  {
   "cell_type": "code",
   "execution_count": 21,
   "id": "5515aa0a",
   "metadata": {},
   "outputs": [
    {
     "name": "stdout",
     "output_type": "stream",
     "text": [
      "CPU times: user 754 ms, sys: 8.9 ms, total: 763 ms\n",
      "Wall time: 805 ms\n"
     ]
    },
    {
     "data": {
      "text/html": [
       "<div>\n",
       "<style scoped>\n",
       "    .dataframe tbody tr th:only-of-type {\n",
       "        vertical-align: middle;\n",
       "    }\n",
       "\n",
       "    .dataframe tbody tr th {\n",
       "        vertical-align: top;\n",
       "    }\n",
       "\n",
       "    .dataframe thead th {\n",
       "        text-align: right;\n",
       "    }\n",
       "</style>\n",
       "<table border=\"1\" class=\"dataframe\">\n",
       "  <thead>\n",
       "    <tr style=\"text-align: right;\">\n",
       "      <th></th>\n",
       "      <th>PATIENT_FIRST</th>\n",
       "      <th>patient_gender</th>\n",
       "    </tr>\n",
       "  </thead>\n",
       "  <tbody>\n",
       "    <tr>\n",
       "      <th>2708</th>\n",
       "      <td>Rine</td>\n",
       "      <td>female</td>\n",
       "    </tr>\n",
       "    <tr>\n",
       "      <th>3736</th>\n",
       "      <td>Clark</td>\n",
       "      <td>male</td>\n",
       "    </tr>\n",
       "    <tr>\n",
       "      <th>4451</th>\n",
       "      <td>Jerome</td>\n",
       "      <td>male</td>\n",
       "    </tr>\n",
       "    <tr>\n",
       "      <th>7636</th>\n",
       "      <td>Surabhi</td>\n",
       "      <td>unknown</td>\n",
       "    </tr>\n",
       "    <tr>\n",
       "      <th>2040</th>\n",
       "      <td>Nahim</td>\n",
       "      <td>unknown</td>\n",
       "    </tr>\n",
       "    <tr>\n",
       "      <th>1455</th>\n",
       "      <td>PEGGY</td>\n",
       "      <td>female</td>\n",
       "    </tr>\n",
       "    <tr>\n",
       "      <th>3823</th>\n",
       "      <td>Maureen</td>\n",
       "      <td>female</td>\n",
       "    </tr>\n",
       "    <tr>\n",
       "      <th>3593</th>\n",
       "      <td>Christopher</td>\n",
       "      <td>male</td>\n",
       "    </tr>\n",
       "    <tr>\n",
       "      <th>5526</th>\n",
       "      <td>Thomas</td>\n",
       "      <td>male</td>\n",
       "    </tr>\n",
       "    <tr>\n",
       "      <th>4410</th>\n",
       "      <td>Michelle</td>\n",
       "      <td>female</td>\n",
       "    </tr>\n",
       "  </tbody>\n",
       "</table>\n",
       "</div>"
      ],
      "text/plain": [
       "             PATIENT_FIRST patient_gender\n",
       "2708                  Rine         female\n",
       "3736                 Clark           male\n",
       "4451                Jerome           male\n",
       "7636  Surabhi                     unknown\n",
       "2040                 Nahim        unknown\n",
       "1455                 PEGGY         female\n",
       "3823               Maureen         female\n",
       "3593           Christopher           male\n",
       "5526                Thomas           male\n",
       "4410              Michelle         female"
      ]
     },
     "execution_count": 21,
     "metadata": {},
     "output_type": "execute_result"
    }
   ],
   "source": [
    "%%time\n",
    "import gender_guesser.detector as gg\n",
    "gd = gg.Detector(case_sensitive=False)\n",
    "\n",
    "## impute the gender from patient first name\n",
    "patient_gender = []\n",
    "for i, row in xrays_metadata.iterrows():\n",
    "    gender = gd.get_gender(row['PATIENT_FIRST'])\n",
    "    if gender == \"mostly_male\":\n",
    "        gender = \"male\"\n",
    "    if gender == \"mostly_female\":\n",
    "        gender = \"female\"\n",
    "    patient_gender.append(gender)\n",
    "    \n",
    "xrays_metadata['patient_gender'] = patient_gender\n",
    "xrays_metadata[['PATIENT_FIRST', 'patient_gender']].sample(10)"
   ]
  },
  {
   "cell_type": "markdown",
   "id": "d0a2e31e",
   "metadata": {},
   "source": [
    "<div class=\"alert alert-block alert-info\">\n",
    "Info: You must exhaust all options to obtain and use self-reported demographic data before resorting to using imputation/inference methods. The use of imputed data should be noted and discussed as part of the AI Review Board process for the particular model being tested.\n",
    "</div>"
   ]
  },
  {
   "cell_type": "code",
   "execution_count": 67,
   "id": "642f1fc1",
   "metadata": {},
   "outputs": [
    {
     "data": {
      "image/png": "[encoded data removed]",
      "text/plain": [
       "<Figure size 864x576 with 9 Axes>"
      ]
     },
     "metadata": {
      "needs_background": "light"
     },
     "output_type": "display_data"
    }
   ],
   "source": [
    "# pick out gender related features for fairlearn\n",
    "patient_gender = xrays_metadata['patient_gender']\n",
    "\n",
    "# Get metrics by patient_age_bucket\n",
    "get_metrics_by_group(metrics=metrics, group=patient_gender, y_true=y_true, y_pred=y_pred)\n"
   ]
  },
  {
   "cell_type": "markdown",
   "id": "208030a1",
   "metadata": {},
   "source": [
    "<div class=\"alert alert-block alert-success\">\n",
    "For this dental model, we are mainly concerned about imbalance in the false positive rate (FPR) because it may mean that the model is incorrectly favoring a certain group. The model is not penalized for false negatives because it will simply go to a human reviewer.\n",
    "    <br><br>\n",
    "There is imbalance in the FPR for \"unknown\" gender group, however if we look at the scale axis, the rate is 0.1% and it may be small enough that it is negligible. We will have to discuss with business and SME to determine what an acceptable false positive rate threshold will be.\n",
    "</div>"
   ]
  },
  {
   "cell_type": "markdown",
   "id": "a9e48045",
   "metadata": {},
   "source": [
    "### Part b: Race"
   ]
  },
  {
   "cell_type": "markdown",
   "id": "23532b18",
   "metadata": {},
   "source": [
    "\n",
    "Race data currently unavailable.\n",
    "Obtaining race data in progress...\n"
   ]
  },
  {
   "cell_type": "markdown",
   "id": "4a0b6e21",
   "metadata": {},
   "source": [
    "### Part c: Age"
   ]
  },
  {
   "cell_type": "markdown",
   "id": "940fa7f4",
   "metadata": {},
   "source": [
    "<div class=\"alert alert-block alert-info\">\n",
    "Tip: Fairlearn will only work with categorical features, so it's best to first bucket continuous features like age.\n",
    "</div>"
   ]
  },
  {
   "cell_type": "code",
   "execution_count": 23,
   "id": "e167eec0",
   "metadata": {},
   "outputs": [],
   "source": [
    "## convert to datetime\n",
    "xrays_metadata['CREATE_DATE'] = pd.to_datetime(xrays_metadata['CREATE_DATE'])\n",
    "xrays_metadata['PATIENT_DOB'] = pd.to_datetime(xrays_metadata['PATIENT_DOB'])\n",
    "\n",
    "## Calculate age using patient date of birth\n",
    "xrays_metadata['patient_age'] = xrays_metadata['CREATE_DATE']-xrays_metadata['PATIENT_DOB']\n",
    "xrays_metadata['patient_age'] = xrays_metadata['patient_age'].astype('<m8[Y]')\n",
    "\n",
    "## create age bucket column\n",
    "bins = [0, 18, 30, 40, 50, 60, 70, 140]\n",
    "labels = ['0-18', '19-30', '31-40', '41-50', '51-60', '61-70', '71+']\n",
    "xrays_metadata['patient_age_bucket'] = pd.cut(xrays_metadata['patient_age'], bins, labels = labels,include_lowest = True)"
   ]
  },
  {
   "cell_type": "code",
   "execution_count": 52,
   "id": "c33ac009",
   "metadata": {},
   "outputs": [
    {
     "data": {
      "image/png": "[encoded data removed]",
      "text/plain": [
       "<Figure size 864x576 with 9 Axes>"
      ]
     },
     "metadata": {
      "needs_background": "light"
     },
     "output_type": "display_data"
    }
   ],
   "source": [
    "# pick out age related features for fairlearn\n",
    "patient_age_bucket = xrays_metadata['patient_age_bucket']\n",
    "\n",
    "# Get metrics by patient_age_bucket\n",
    "get_metrics_by_group(metrics=metrics, group=patient_age_bucket, y_true=y_true, y_pred=y_pred)\n"
   ]
  },
  {
   "cell_type": "markdown",
   "id": "f052855f",
   "metadata": {},
   "source": [
    "<div class=\"alert alert-block alert-success\">\n",
    "We see that people under age 18 have a higher false positive rate (FPR) than other age groups.\n",
    "The rate is roughly 1.25% of people under age 18 will receive a false positive. This may be a significant amount if we're looking at millions of claims.\n",
    "However, we see that the count distribution in our test set there's not a lot of datapoints for people under age 18.\n",
    "Let's assume anyways that our model is being unfair between the age groups, and try out some intervention methods. \n",
    "</div>"
   ]
  },
  {
   "cell_type": "code",
   "execution_count": 63,
   "id": "0b7636bd",
   "metadata": {},
   "outputs": [
    {
     "name": "stdout",
     "output_type": "stream",
     "text": [
      "CPU times: user 1min 40s, sys: 753 ms, total: 1min 40s\n",
      "Wall time: 1min 45s\n"
     ]
    }
   ],
   "source": [
    "%%time\n",
    "\n",
    "## create age bucket column based on whether they're above 18 or below 18\n",
    "bins = [0, 18, 140]\n",
    "labels = ['18 and under', 'over 18']\n",
    "xrays_metadata['patient_age_bucket_2'] = pd.cut(xrays_metadata['patient_age'], bins, labels = labels,include_lowest = True)\n",
    "\n",
    "## compute intervention thresholds\n",
    "under_18, above_18 = fi.split_test_set_by_binary_category(xrays_metadata, 'patient_age_bucket_2', ['18 and under', 'over 18'])\n",
    "intervention_results_df = fi.run_algorithmic_interventions_df(\n",
    "    {'group_0': under_18, 'group_1': above_18},\n",
    "    {'actuals_col_name': 'test_y', 'predicted_col_name': 'predict_y'},\n",
    "    {'weight_tp': 1, 'weight_fp': 7},\n",
    "    thresholds = np.arange(0.00, 1.01, 0.01)\n",
    ")"
   ]
  },
  {
   "cell_type": "code",
   "execution_count": 64,
   "id": "5b7d62df",
   "metadata": {},
   "outputs": [
    {
     "data": {
      "text/html": [
       "<div>\n",
       "<style scoped>\n",
       "    .dataframe tbody tr th:only-of-type {\n",
       "        vertical-align: middle;\n",
       "    }\n",
       "\n",
       "    .dataframe tbody tr th {\n",
       "        vertical-align: top;\n",
       "    }\n",
       "\n",
       "    .dataframe thead th {\n",
       "        text-align: right;\n",
       "    }\n",
       "</style>\n",
       "<table border=\"1\" class=\"dataframe\">\n",
       "  <thead>\n",
       "    <tr style=\"text-align: right;\">\n",
       "      <th></th>\n",
       "      <th>IntervationName</th>\n",
       "      <th>Profit</th>\n",
       "      <th>threshold_0</th>\n",
       "      <th>threshold_1</th>\n",
       "      <th>TruePositive0</th>\n",
       "      <th>FalsePositive0</th>\n",
       "      <th>PositiveRate0</th>\n",
       "      <th>NegativeRate0</th>\n",
       "      <th>TruePositiveRate0</th>\n",
       "      <th>FalsePositiveRate0</th>\n",
       "      <th>TruePositive1</th>\n",
       "      <th>FalsePositive1</th>\n",
       "      <th>PositiveRate1</th>\n",
       "      <th>NegativeRate1</th>\n",
       "      <th>TruePositiveRate1</th>\n",
       "      <th>FalsePositiveRate1</th>\n",
       "    </tr>\n",
       "  </thead>\n",
       "  <tbody>\n",
       "    <tr>\n",
       "      <th>11016</th>\n",
       "      <td>MaxProfit</td>\n",
       "      <td>162</td>\n",
       "      <td>1.00</td>\n",
       "      <td>0.97</td>\n",
       "      <td>0</td>\n",
       "      <td>0</td>\n",
       "      <td>0.000</td>\n",
       "      <td>1.000</td>\n",
       "      <td>0.000</td>\n",
       "      <td>0.000</td>\n",
       "      <td>239</td>\n",
       "      <td>11</td>\n",
       "      <td>0.030</td>\n",
       "      <td>0.970</td>\n",
       "      <td>0.513</td>\n",
       "      <td>0.001</td>\n",
       "    </tr>\n",
       "    <tr>\n",
       "      <th>10667</th>\n",
       "      <td>GroupUnawareness</td>\n",
       "      <td>157</td>\n",
       "      <td>0.97</td>\n",
       "      <td>0.97</td>\n",
       "      <td>2</td>\n",
       "      <td>1</td>\n",
       "      <td>0.037</td>\n",
       "      <td>0.963</td>\n",
       "      <td>0.222</td>\n",
       "      <td>0.014</td>\n",
       "      <td>239</td>\n",
       "      <td>11</td>\n",
       "      <td>0.030</td>\n",
       "      <td>0.970</td>\n",
       "      <td>0.513</td>\n",
       "      <td>0.001</td>\n",
       "    </tr>\n",
       "    <tr>\n",
       "      <th>9547</th>\n",
       "      <td>DemographicParity</td>\n",
       "      <td>111</td>\n",
       "      <td>0.88</td>\n",
       "      <td>0.93</td>\n",
       "      <td>2</td>\n",
       "      <td>1</td>\n",
       "      <td>0.037</td>\n",
       "      <td>0.963</td>\n",
       "      <td>0.222</td>\n",
       "      <td>0.014</td>\n",
       "      <td>277</td>\n",
       "      <td>23</td>\n",
       "      <td>0.035</td>\n",
       "      <td>0.965</td>\n",
       "      <td>0.594</td>\n",
       "      <td>0.003</td>\n",
       "    </tr>\n",
       "    <tr>\n",
       "      <th>7311</th>\n",
       "      <td>EqualOpportunity</td>\n",
       "      <td>46</td>\n",
       "      <td>0.69</td>\n",
       "      <td>0.81</td>\n",
       "      <td>6</td>\n",
       "      <td>1</td>\n",
       "      <td>0.085</td>\n",
       "      <td>0.915</td>\n",
       "      <td>0.667</td>\n",
       "      <td>0.014</td>\n",
       "      <td>313</td>\n",
       "      <td>38</td>\n",
       "      <td>0.041</td>\n",
       "      <td>0.959</td>\n",
       "      <td>0.672</td>\n",
       "      <td>0.005</td>\n",
       "    </tr>\n",
       "    <tr>\n",
       "      <th>11023</th>\n",
       "      <td>EqualisedOdds</td>\n",
       "      <td>0</td>\n",
       "      <td>1.00</td>\n",
       "      <td>1.00</td>\n",
       "      <td>0</td>\n",
       "      <td>0</td>\n",
       "      <td>0.000</td>\n",
       "      <td>1.000</td>\n",
       "      <td>0.000</td>\n",
       "      <td>0.000</td>\n",
       "      <td>0</td>\n",
       "      <td>0</td>\n",
       "      <td>0.000</td>\n",
       "      <td>1.000</td>\n",
       "      <td>0.000</td>\n",
       "      <td>0.000</td>\n",
       "    </tr>\n",
       "  </tbody>\n",
       "</table>\n",
       "</div>"
      ],
      "text/plain": [
       "         IntervationName  Profit  threshold_0  threshold_1 TruePositive0  \\\n",
       "11016          MaxProfit     162         1.00         0.97             0   \n",
       "10667   GroupUnawareness     157         0.97         0.97             2   \n",
       "9547   DemographicParity     111         0.88         0.93             2   \n",
       "7311    EqualOpportunity      46         0.69         0.81             6   \n",
       "11023      EqualisedOdds       0         1.00         1.00             0   \n",
       "\n",
       "      FalsePositive0  PositiveRate0  NegativeRate0  TruePositiveRate0  \\\n",
       "11016              0          0.000          1.000              0.000   \n",
       "10667              1          0.037          0.963              0.222   \n",
       "9547               1          0.037          0.963              0.222   \n",
       "7311               1          0.085          0.915              0.667   \n",
       "11023              0          0.000          1.000              0.000   \n",
       "\n",
       "       FalsePositiveRate0 TruePositive1 FalsePositive1  PositiveRate1  \\\n",
       "11016               0.000           239             11          0.030   \n",
       "10667               0.014           239             11          0.030   \n",
       "9547                0.014           277             23          0.035   \n",
       "7311                0.014           313             38          0.041   \n",
       "11023               0.000             0              0          0.000   \n",
       "\n",
       "       NegativeRate1  TruePositiveRate1  FalsePositiveRate1  \n",
       "11016          0.970              0.513               0.001  \n",
       "10667          0.970              0.513               0.001  \n",
       "9547           0.965              0.594               0.003  \n",
       "7311           0.959              0.672               0.005  \n",
       "11023          1.000              0.000               0.000  "
      ]
     },
     "execution_count": 64,
     "metadata": {},
     "output_type": "execute_result"
    }
   ],
   "source": [
    "## Group intervention results by methods where they achieved the highest profit\n",
    "intervention_results_df = intervention_results_df.reset_index(drop=True).round(3)\n",
    "intervention_results_df['Profit'] = pd.to_numeric(intervention_results_df['Profit'])\n",
    "max_profits_intervention = intervention_results_df.loc[intervention_results_df.groupby(['IntervationName'])['Profit'].idxmax()]  \n",
    "max_profits_intervention = max_profits_intervention.sort_values('Profit', ascending=False)\n",
    "max_profits_intervention.head(100)"
   ]
  },
  {
   "cell_type": "markdown",
   "id": "e46f9656",
   "metadata": {},
   "source": [
    "<div class=\"alert alert-block alert-info\">\n",
    "Info: We see in the dataframe above that different fairness intervention methods applies different thresholds to each group. These thresholds are picked based on the highest profit score from the profit function. Here is a brief description about each intervention methods:\n",
    "<br><br>\n",
    "    \n",
    "- **Maximise profit** uses different classification thresholds for each group and only aims at maximising profit.<br>\n",
    "- **Fairness through unawareness** uses the same classification threshold for all groups while maximising profit.<br>\n",
    "- **Demographic parity** applies different classification thresholds for each group, while keeping the same fraction of positives in each group.<br>\n",
    "- **Equal opportunity** uses different classification thresholds for each group, while keeping the same true positive rate in each group.<br>\n",
    "- **Equalised odds** applies different classification thresholds for each group, while keeping the same true positive rate and false positive rate in each group.\n",
    "<br><br>\n",
    "    \n",
    "Please read more about these fairness methods here: https://towardsdatascience.com/how-to-define-fairness-to-detect-and-prevent-discriminatory-outcomes-in-machine-learning-ef23fd408ef2\n",
    "    \n",
    "</div>"
   ]
  },
  {
   "cell_type": "code",
   "execution_count": 68,
   "id": "8c68d561",
   "metadata": {},
   "outputs": [
    {
     "data": {
      "text/html": [
       "<div class=\"bk-root\">\n",
       "        <a href=\"https://bokeh.org\" target=\"_blank\" class=\"bk-logo bk-logo-small bk-logo-notebook\"></a>\n",
       "        <span id=\"3368\">Loading BokehJS ...</span>\n",
       "    </div>\n"
      ]
     },
     "metadata": {},
     "output_type": "display_data"
    },
    {
     "data": {
      "application/javascript": [
       "(function(root) {\n",
       "  function now() {\n",
       "    return new Date();\n",
       "  }\n",
       "\n",
       "  const force = true;\n",
       "\n",
       "  if (typeof root._bokeh_onload_callbacks === \"undefined\" || force === true) {\n",
       "    root._bokeh_onload_callbacks = [];\n",
       "    root._bokeh_is_loading = undefined;\n",
       "  }\n",
       "\n",
       "const JS_MIME_TYPE = 'application/javascript';\n",
       "  const HTML_MIME_TYPE = 'text/html';\n",
       "  const EXEC_MIME_TYPE = 'application/vnd.bokehjs_exec.v0+json';\n",
       "  const CLASS_NAME = 'output_bokeh rendered_html';\n",
       "\n",
       "  /**\n",
       "   * Render data to the DOM node\n",
       "   */\n",
       "  function render(props, node) {\n",
       "    const script = document.createElement(\"script\");\n",
       "    node.appendChild(script);\n",
       "  }\n",
       "\n",
       "  /**\n",
       "   * Handle when an output is cleared or removed\n",
       "   */\n",
       "  function handleClearOutput(event, handle) {\n",
       "    const cell = handle.cell;\n",
       "\n",
       "    const id = cell.output_area._bokeh_element_id;\n",
       "    const server_id = cell.output_area._bokeh_server_id;\n",
       "    // Clean up Bokeh references\n",
       "    if (id != null && id in Bokeh.index) {\n",
       "      Bokeh.index[id].model.document.clear();\n",
       "      delete Bokeh.index[id];\n",
       "    }\n",
       "\n",
       "    if (server_id !== undefined) {\n",
       "      // Clean up Bokeh references\n",
       "      const cmd_clean = \"from bokeh.io.state import curstate; print(curstate().uuid_to_server['\" + server_id + \"'].get_sessions()[0].document.roots[0]._id)\";\n",
       "      cell.notebook.kernel.execute(cmd_clean, {\n",
       "        iopub: {\n",
       "          output: function(msg) {\n",
       "            const id = msg.content.text.trim();\n",
       "            if (id in Bokeh.index) {\n",
       "              Bokeh.index[id].model.document.clear();\n",
       "              delete Bokeh.index[id];\n",
       "            }\n",
       "          }\n",
       "        }\n",
       "      });\n",
       "      // Destroy server and session\n",
       "      const cmd_destroy = \"import bokeh.io.notebook as ion; ion.destroy_server('\" + server_id + \"')\";\n",
       "      cell.notebook.kernel.execute(cmd_destroy);\n",
       "    }\n",
       "  }\n",
       "\n",
       "  /**\n",
       "   * Handle when a new output is added\n",
       "   */\n",
       "  function handleAddOutput(event, handle) {\n",
       "    const output_area = handle.output_area;\n",
       "    const output = handle.output;\n",
       "\n",
       "    // limit handleAddOutput to display_data with EXEC_MIME_TYPE content only\n",
       "    if ((output.output_type != \"display_data\") || (!Object.prototype.hasOwnProperty.call(output.data, EXEC_MIME_TYPE))) {\n",
       "      return\n",
       "    }\n",
       "\n",
       "    const toinsert = output_area.element.find(\".\" + CLASS_NAME.split(' ')[0]);\n",
       "\n",
       "    if (output.metadata[EXEC_MIME_TYPE][\"id\"] !== undefined) {\n",
       "      toinsert[toinsert.length - 1].firstChild.textContent = output.data[JS_MIME_TYPE];\n",
       "      // store reference to embed id on output_area\n",
       "      output_area._bokeh_element_id = output.metadata[EXEC_MIME_TYPE][\"id\"];\n",
       "    }\n",
       "    if (output.metadata[EXEC_MIME_TYPE][\"server_id\"] !== undefined) {\n",
       "      const bk_div = document.createElement(\"div\");\n",
       "      bk_div.innerHTML = output.data[HTML_MIME_TYPE];\n",
       "      const script_attrs = bk_div.children[0].attributes;\n",
       "      for (let i = 0; i < script_attrs.length; i++) {\n",
       "        toinsert[toinsert.length - 1].firstChild.setAttribute(script_attrs[i].name, script_attrs[i].value);\n",
       "        toinsert[toinsert.length - 1].firstChild.textContent = bk_div.children[0].textContent\n",
       "      }\n",
       "      // store reference to server id on output_area\n",
       "      output_area._bokeh_server_id = output.metadata[EXEC_MIME_TYPE][\"server_id\"];\n",
       "    }\n",
       "  }\n",
       "\n",
       "  function register_renderer(events, OutputArea) {\n",
       "\n",
       "    function append_mime(data, metadata, element) {\n",
       "      // create a DOM node to render to\n",
       "      const toinsert = this.create_output_subarea(\n",
       "        metadata,\n",
       "        CLASS_NAME,\n",
       "        EXEC_MIME_TYPE\n",
       "      );\n",
       "      this.keyboard_manager.register_events(toinsert);\n",
       "      // Render to node\n",
       "      const props = {data: data, metadata: metadata[EXEC_MIME_TYPE]};\n",
       "      render(props, toinsert[toinsert.length - 1]);\n",
       "      element.append(toinsert);\n",
       "      return toinsert\n",
       "    }\n",
       "\n",
       "    /* Handle when an output is cleared or removed */\n",
       "    events.on('clear_output.CodeCell', handleClearOutput);\n",
       "    events.on('delete.Cell', handleClearOutput);\n",
       "\n",
       "    /* Handle when a new output is added */\n",
       "    events.on('output_added.OutputArea', handleAddOutput);\n",
       "\n",
       "    /**\n",
       "     * Register the mime type and append_mime function with output_area\n",
       "     */\n",
       "    OutputArea.prototype.register_mime_type(EXEC_MIME_TYPE, append_mime, {\n",
       "      /* Is output safe? */\n",
       "      safe: true,\n",
       "      /* Index of renderer in `output_area.display_order` */\n",
       "      index: 0\n",
       "    });\n",
       "  }\n",
       "\n",
       "  // register the mime type if in Jupyter Notebook environment and previously unregistered\n",
       "  if (root.Jupyter !== undefined) {\n",
       "    const events = require('base/js/events');\n",
       "    const OutputArea = require('notebook/js/outputarea').OutputArea;\n",
       "\n",
       "    if (OutputArea.prototype.mime_types().indexOf(EXEC_MIME_TYPE) == -1) {\n",
       "      register_renderer(events, OutputArea);\n",
       "    }\n",
       "  }\n",
       "  if (typeof (root._bokeh_timeout) === \"undefined\" || force === true) {\n",
       "    root._bokeh_timeout = Date.now() + 5000;\n",
       "    root._bokeh_failed_load = false;\n",
       "  }\n",
       "\n",
       "  const NB_LOAD_WARNING = {'data': {'text/html':\n",
       "     \"<div style='background-color: #fdd'>\\n\"+\n",
       "     \"<p>\\n\"+\n",
       "     \"BokehJS does not appear to have successfully loaded. If loading BokehJS from CDN, this \\n\"+\n",
       "     \"may be due to a slow or bad network connection. Possible fixes:\\n\"+\n",
       "     \"</p>\\n\"+\n",
       "     \"<ul>\\n\"+\n",
       "     \"<li>re-rerun `output_notebook()` to attempt to load from CDN again, or</li>\\n\"+\n",
       "     \"<li>use INLINE resources instead, as so:</li>\\n\"+\n",
       "     \"</ul>\\n\"+\n",
       "     \"<code>\\n\"+\n",
       "     \"from bokeh.resources import INLINE\\n\"+\n",
       "     \"output_notebook(resources=INLINE)\\n\"+\n",
       "     \"</code>\\n\"+\n",
       "     \"</div>\"}};\n",
       "\n",
       "  function display_loaded() {\n",
       "    const el = document.getElementById(\"3368\");\n",
       "    if (el != null) {\n",
       "      el.textContent = \"BokehJS is loading...\";\n",
       "    }\n",
       "    if (root.Bokeh !== undefined) {\n",
       "      if (el != null) {\n",
       "        el.textContent = \"BokehJS \" + root.Bokeh.version + \" successfully loaded.\";\n",
       "      }\n",
       "    } else if (Date.now() < root._bokeh_timeout) {\n",
       "      setTimeout(display_loaded, 100)\n",
       "    }\n",
       "  }\n",
       "\n",
       "  function run_callbacks() {\n",
       "    try {\n",
       "      root._bokeh_onload_callbacks.forEach(function(callback) {\n",
       "        if (callback != null)\n",
       "          callback();\n",
       "      });\n",
       "    } finally {\n",
       "      delete root._bokeh_onload_callbacks\n",
       "    }\n",
       "    console.debug(\"Bokeh: all callbacks have finished\");\n",
       "  }\n",
       "\n",
       "  function load_libs(css_urls, js_urls, callback) {\n",
       "    if (css_urls == null) css_urls = [];\n",
       "    if (js_urls == null) js_urls = [];\n",
       "\n",
       "    root._bokeh_onload_callbacks.push(callback);\n",
       "    if (root._bokeh_is_loading > 0) {\n",
       "      console.debug(\"Bokeh: BokehJS is being loaded, scheduling callback at\", now());\n",
       "      return null;\n",
       "    }\n",
       "    if (js_urls == null || js_urls.length === 0) {\n",
       "      run_callbacks();\n",
       "      return null;\n",
       "    }\n",
       "    console.debug(\"Bokeh: BokehJS not loaded, scheduling load and callback at\", now());\n",
       "    root._bokeh_is_loading = css_urls.length + js_urls.length;\n",
       "\n",
       "    function on_load() {\n",
       "      root._bokeh_is_loading--;\n",
       "      if (root._bokeh_is_loading === 0) {\n",
       "        console.debug(\"Bokeh: all BokehJS libraries/stylesheets loaded\");\n",
       "        run_callbacks()\n",
       "      }\n",
       "    }\n",
       "\n",
       "    function on_error(url) {\n",
       "      console.error(\"failed to load \" + url);\n",
       "    }\n",
       "\n",
       "    for (let i = 0; i < css_urls.length; i++) {\n",
       "      const url = css_urls[i];\n",
       "      const element = document.createElement(\"link\");\n",
       "      element.onload = on_load;\n",
       "      element.onerror = on_error.bind(null, url);\n",
       "      element.rel = \"stylesheet\";\n",
       "      element.type = \"text/css\";\n",
       "      element.href = url;\n",
       "      console.debug(\"Bokeh: injecting link tag for BokehJS stylesheet: \", url);\n",
       "      document.body.appendChild(element);\n",
       "    }\n",
       "\n",
       "    for (let i = 0; i < js_urls.length; i++) {\n",
       "      const url = js_urls[i];\n",
       "      const element = document.createElement('script');\n",
       "      element.onload = on_load;\n",
       "      element.onerror = on_error.bind(null, url);\n",
       "      element.async = false;\n",
       "      element.src = url;\n",
       "      console.debug(\"Bokeh: injecting script tag for BokehJS library: \", url);\n",
       "      document.head.appendChild(element);\n",
       "    }\n",
       "  };\n",
       "\n",
       "  function inject_raw_css(css) {\n",
       "    const element = document.createElement(\"style\");\n",
       "    element.appendChild(document.createTextNode(css));\n",
       "    document.body.appendChild(element);\n",
       "  }\n",
       "\n",
       "  const js_urls = [\"https://cdn.bokeh.org/bokeh/release/bokeh-2.4.3.min.js\", \"https://cdn.bokeh.org/bokeh/release/bokeh-gl-2.4.3.min.js\", \"https://cdn.bokeh.org/bokeh/release/bokeh-widgets-2.4.3.min.js\", \"https://cdn.bokeh.org/bokeh/release/bokeh-tables-2.4.3.min.js\", \"https://cdn.bokeh.org/bokeh/release/bokeh-mathjax-2.4.3.min.js\"];\n",
       "  const css_urls = [];\n",
       "\n",
       "  const inline_js = [    function(Bokeh) {\n",
       "      Bokeh.set_log_level(\"info\");\n",
       "    },\n",
       "function(Bokeh) {\n",
       "    }\n",
       "  ];\n",
       "\n",
       "  function run_inline_js() {\n",
       "    if (root.Bokeh !== undefined || force === true) {\n",
       "          for (let i = 0; i < inline_js.length; i++) {\n",
       "      inline_js[i].call(root, root.Bokeh);\n",
       "    }\n",
       "if (force === true) {\n",
       "        display_loaded();\n",
       "      }} else if (Date.now() < root._bokeh_timeout) {\n",
       "      setTimeout(run_inline_js, 100);\n",
       "    } else if (!root._bokeh_failed_load) {\n",
       "      console.log(\"Bokeh: BokehJS failed to load within specified timeout.\");\n",
       "      root._bokeh_failed_load = true;\n",
       "    } else if (force !== true) {\n",
       "      const cell = $(document.getElementById(\"3368\")).parents('.cell').data().cell;\n",
       "      cell.output_area.append_execute_result(NB_LOAD_WARNING)\n",
       "    }\n",
       "  }\n",
       "\n",
       "  if (root._bokeh_is_loading === 0) {\n",
       "    console.debug(\"Bokeh: BokehJS loaded, going straight to plotting\");\n",
       "    run_inline_js();\n",
       "  } else {\n",
       "    load_libs(css_urls, js_urls, function() {\n",
       "      console.debug(\"Bokeh: BokehJS plotting callback run at\", now());\n",
       "      run_inline_js();\n",
       "    });\n",
       "  }\n",
       "}(window));"
      ],
      "application/vnd.bokehjs_load.v0+json": "(function(root) {\n  function now() {\n    return new Date();\n  }\n\n  const force = true;\n\n  if (typeof root._bokeh_onload_callbacks === \"undefined\" || force === true) {\n    root._bokeh_onload_callbacks = [];\n    root._bokeh_is_loading = undefined;\n  }\n\n\n  if (typeof (root._bokeh_timeout) === \"undefined\" || force === true) {\n    root._bokeh_timeout = Date.now() + 5000;\n    root._bokeh_failed_load = false;\n  }\n\n  const NB_LOAD_WARNING = {'data': {'text/html':\n     \"<div style='background-color: #fdd'>\\n\"+\n     \"<p>\\n\"+\n     \"BokehJS does not appear to have successfully loaded. If loading BokehJS from CDN, this \\n\"+\n     \"may be due to a slow or bad network connection. Possible fixes:\\n\"+\n     \"</p>\\n\"+\n     \"<ul>\\n\"+\n     \"<li>re-rerun `output_notebook()` to attempt to load from CDN again, or</li>\\n\"+\n     \"<li>use INLINE resources instead, as so:</li>\\n\"+\n     \"</ul>\\n\"+\n     \"<code>\\n\"+\n     \"from bokeh.resources import INLINE\\n\"+\n     \"output_notebook(resources=INLINE)\\n\"+\n     \"</code>\\n\"+\n     \"</div>\"}};\n\n  function display_loaded() {\n    const el = document.getElementById(\"3368\");\n    if (el != null) {\n      el.textContent = \"BokehJS is loading...\";\n    }\n    if (root.Bokeh !== undefined) {\n      if (el != null) {\n        el.textContent = \"BokehJS \" + root.Bokeh.version + \" successfully loaded.\";\n      }\n    } else if (Date.now() < root._bokeh_timeout) {\n      setTimeout(display_loaded, 100)\n    }\n  }\n\n  function run_callbacks() {\n    try {\n      root._bokeh_onload_callbacks.forEach(function(callback) {\n        if (callback != null)\n          callback();\n      });\n    } finally {\n      delete root._bokeh_onload_callbacks\n    }\n    console.debug(\"Bokeh: all callbacks have finished\");\n  }\n\n  function load_libs(css_urls, js_urls, callback) {\n    if (css_urls == null) css_urls = [];\n    if (js_urls == null) js_urls = [];\n\n    root._bokeh_onload_callbacks.push(callback);\n    if (root._bokeh_is_loading > 0) {\n      console.debug(\"Bokeh: BokehJS is being loaded, scheduling callback at\", now());\n      return null;\n    }\n    if (js_urls == null || js_urls.length === 0) {\n      run_callbacks();\n      return null;\n    }\n    console.debug(\"Bokeh: BokehJS not loaded, scheduling load and callback at\", now());\n    root._bokeh_is_loading = css_urls.length + js_urls.length;\n\n    function on_load() {\n      root._bokeh_is_loading--;\n      if (root._bokeh_is_loading === 0) {\n        console.debug(\"Bokeh: all BokehJS libraries/stylesheets loaded\");\n        run_callbacks()\n      }\n    }\n\n    function on_error(url) {\n      console.error(\"failed to load \" + url);\n    }\n\n    for (let i = 0; i < css_urls.length; i++) {\n      const url = css_urls[i];\n      const element = document.createElement(\"link\");\n      element.onload = on_load;\n      element.onerror = on_error.bind(null, url);\n      element.rel = \"stylesheet\";\n      element.type = \"text/css\";\n      element.href = url;\n      console.debug(\"Bokeh: injecting link tag for BokehJS stylesheet: \", url);\n      document.body.appendChild(element);\n    }\n\n    for (let i = 0; i < js_urls.length; i++) {\n      const url = js_urls[i];\n      const element = document.createElement('script');\n      element.onload = on_load;\n      element.onerror = on_error.bind(null, url);\n      element.async = false;\n      element.src = url;\n      console.debug(\"Bokeh: injecting script tag for BokehJS library: \", url);\n      document.head.appendChild(element);\n    }\n  };\n\n  function inject_raw_css(css) {\n    const element = document.createElement(\"style\");\n    element.appendChild(document.createTextNode(css));\n    document.body.appendChild(element);\n  }\n\n  const js_urls = [\"https://cdn.bokeh.org/bokeh/release/bokeh-2.4.3.min.js\", \"https://cdn.bokeh.org/bokeh/release/bokeh-gl-2.4.3.min.js\", \"https://cdn.bokeh.org/bokeh/release/bokeh-widgets-2.4.3.min.js\", \"https://cdn.bokeh.org/bokeh/release/bokeh-tables-2.4.3.min.js\", \"https://cdn.bokeh.org/bokeh/release/bokeh-mathjax-2.4.3.min.js\"];\n  const css_urls = [];\n\n  const inline_js = [    function(Bokeh) {\n      Bokeh.set_log_level(\"info\");\n    },\nfunction(Bokeh) {\n    }\n  ];\n\n  function run_inline_js() {\n    if (root.Bokeh !== undefined || force === true) {\n          for (let i = 0; i < inline_js.length; i++) {\n      inline_js[i].call(root, root.Bokeh);\n    }\nif (force === true) {\n        display_loaded();\n      }} else if (Date.now() < root._bokeh_timeout) {\n      setTimeout(run_inline_js, 100);\n    } else if (!root._bokeh_failed_load) {\n      console.log(\"Bokeh: BokehJS failed to load within specified timeout.\");\n      root._bokeh_failed_load = true;\n    } else if (force !== true) {\n      const cell = $(document.getElementById(\"3368\")).parents('.cell').data().cell;\n      cell.output_area.append_execute_result(NB_LOAD_WARNING)\n    }\n  }\n\n  if (root._bokeh_is_loading === 0) {\n    console.debug(\"Bokeh: BokehJS loaded, going straight to plotting\");\n    run_inline_js();\n  } else {\n    load_libs(css_urls, js_urls, function() {\n      console.debug(\"Bokeh: BokehJS plotting callback run at\", now());\n      run_inline_js();\n    });\n  }\n}(window));"
     },
     "metadata": {},
     "output_type": "display_data"
    },
    {
     "data": {
      "text/html": [
       "\n",
       "  <div class=\"bk-root\" id=\"e10f1a24-7b75-4651-96f7-de62ecf2d082\" data-root-id=\"3279\"></div>\n"
      ]
     },
     "metadata": {},
     "output_type": "display_data"
    },
    {
     "data": {
      "application/javascript": [
       "(function(root) {\n",
       "  function embed_document(root) {\n",
       "  const docs_json = {\"4e73985b-91f4-4bf7-b2a5-2ec1396b2b5b\":{\"defs\":[],\"roots\":{\"references\":[{\"attributes\":{\"below\":[{\"id\":\"3289\"}],\"center\":[{\"id\":\"3291\"},{\"id\":\"3295\"}],\"extra_y_ranges\":{\"Profit\":{\"id\":\"3319\"}},\"height\":300,\"left\":[{\"id\":\"3292\"}],\"renderers\":[{\"id\":\"3304\"},{\"id\":\"3310\"},{\"id\":\"3316\"}],\"right\":[{\"id\":\"3320\"}],\"title\":{\"id\":\"3280\"},\"toolbar\":{\"id\":\"3297\"},\"width\":700,\"x_range\":{\"id\":\"3278\"},\"x_scale\":{\"id\":\"3285\"},\"y_range\":{\"id\":\"3318\"},\"y_scale\":{\"id\":\"3287\"}},\"id\":\"3279\",\"subtype\":\"Figure\",\"type\":\"Plot\"},{\"attributes\":{\"data\":{\"colours\":[\"#8c9eff\",\"#536dfe\",\"#8c9eff\",\"#536dfe\",\"#8c9eff\",\"#536dfe\",\"#8c9eff\",\"#536dfe\",\"#8c9eff\",\"#536dfe\"],\"counts\":[0.0,0.513,0.222,0.513,0.222,0.594,0.667,0.672,0.0,0.0],\"profits\":[162,157,111,46,0],\"x\":[[\"MaxProfit\",\"18 and under\"],[\"MaxProfit\",\"over 18\"],[\"GroupUnawareness\",\"18 and under\"],[\"GroupUnawareness\",\"over 18\"],[\"DemographicParity\",\"18 and under\"],[\"DemographicParity\",\"over 18\"],[\"EqualOpportunity\",\"18 and under\"],[\"EqualOpportunity\",\"over 18\"],[\"EqualisedOdds\",\"18 and under\"],[\"EqualisedOdds\",\"over 18\"]]},\"selected\":{\"id\":\"3529\"},\"selection_policy\":{\"id\":\"3528\"}},\"id\":\"3299\",\"type\":\"ColumnDataSource\"},{\"attributes\":{},\"id\":\"3526\",\"type\":\"CategoricalTickFormatter\"},{\"attributes\":{\"factors\":[[\"MaxProfit\",\"18 and under\"],[\"MaxProfit\",\"over 18\"],[\"GroupUnawareness\",\"18 and under\"],[\"GroupUnawareness\",\"over 18\"],[\"DemographicParity\",\"18 and under\"],[\"DemographicParity\",\"over 18\"],[\"EqualOpportunity\",\"18 and under\"],[\"EqualOpportunity\",\"over 18\"],[\"EqualisedOdds\",\"18 and under\"],[\"EqualisedOdds\",\"over 18\"]],\"range_padding\":0.1},\"id\":\"3278\",\"type\":\"FactorRange\"},{\"attributes\":{\"data\":{\"x\":[\"MaxProfit\",\"GroupUnawareness\",\"DemographicParity\",\"EqualOpportunity\",\"EqualisedOdds\"],\"y\":[162,157,111,46,0]},\"selected\":{\"id\":\"3531\"},\"selection_policy\":{\"id\":\"3530\"}},\"id\":\"3306\",\"type\":\"ColumnDataSource\"},{\"attributes\":{},\"id\":\"3293\",\"type\":\"BasicTicker\"},{\"attributes\":{\"fill_alpha\":{\"value\":0.1},\"fill_color\":{\"value\":\"#ffca28\"},\"hatch_alpha\":{\"value\":0.1},\"hatch_color\":{\"value\":\"#ffca28\"},\"line_alpha\":{\"value\":0.1},\"line_color\":{\"value\":\"#ffca28\"},\"size\":{\"value\":7},\"x\":{\"field\":\"x\"},\"y\":{\"field\":\"y\"}},\"id\":\"3314\",\"type\":\"Circle\"},{\"attributes\":{\"fill_color\":{\"field\":\"colours\"},\"hatch_color\":{\"field\":\"colours\"},\"line_color\":{\"field\":\"colours\"},\"top\":{\"field\":\"counts\"},\"width\":{\"value\":0.9},\"x\":{\"field\":\"x\"}},\"id\":\"3301\",\"type\":\"VBar\"},{\"attributes\":{\"source\":{\"id\":\"3299\"}},\"id\":\"3305\",\"type\":\"CDSView\"},{\"attributes\":{},\"id\":\"3531\",\"type\":\"Selection\"},{\"attributes\":{},\"id\":\"3530\",\"type\":\"UnionRenderers\"},{\"attributes\":{\"coordinates\":null,\"data_source\":{\"id\":\"3306\"},\"glyph\":{\"id\":\"3307\"},\"group\":null,\"hover_glyph\":null,\"muted_glyph\":{\"id\":\"3309\"},\"nonselection_glyph\":{\"id\":\"3308\"},\"view\":{\"id\":\"3311\"},\"y_range_name\":\"Profit\"},\"id\":\"3310\",\"type\":\"GlyphRenderer\"},{\"attributes\":{},\"id\":\"3529\",\"type\":\"Selection\"},{\"attributes\":{\"coordinates\":null,\"data_source\":{\"id\":\"3299\"},\"glyph\":{\"id\":\"3301\"},\"group\":null,\"hover_glyph\":null,\"muted_glyph\":{\"id\":\"3303\"},\"nonselection_glyph\":{\"id\":\"3302\"},\"view\":{\"id\":\"3305\"}},\"id\":\"3304\",\"type\":\"GlyphRenderer\"},{\"attributes\":{\"source\":{\"id\":\"3306\"}},\"id\":\"3311\",\"type\":\"CDSView\"},{\"attributes\":{\"fill_alpha\":{\"value\":0.2},\"fill_color\":{\"value\":\"#ffca28\"},\"hatch_alpha\":{\"value\":0.2},\"hatch_color\":{\"value\":\"#ffca28\"},\"line_alpha\":{\"value\":0.2},\"line_color\":{\"value\":\"#ffca28\"},\"size\":{\"value\":7},\"x\":{\"field\":\"x\"},\"y\":{\"field\":\"y\"}},\"id\":\"3315\",\"type\":\"Circle\"},{\"attributes\":{\"fill_alpha\":{\"value\":0.1},\"fill_color\":{\"field\":\"colours\"},\"hatch_alpha\":{\"value\":0.1},\"hatch_color\":{\"field\":\"colours\"},\"line_alpha\":{\"value\":0.1},\"line_color\":{\"field\":\"colours\"},\"top\":{\"field\":\"counts\"},\"width\":{\"value\":0.9},\"x\":{\"field\":\"x\"}},\"id\":\"3302\",\"type\":\"VBar\"},{\"attributes\":{\"tools\":[{\"id\":\"3296\"}]},\"id\":\"3297\",\"type\":\"Toolbar\"},{\"attributes\":{\"line_color\":\"#ffca28\",\"line_width\":2,\"x\":{\"field\":\"x\"},\"y\":{\"field\":\"y\"}},\"id\":\"3307\",\"type\":\"Line\"},{\"attributes\":{\"coordinates\":null,\"data_source\":{\"id\":\"3312\"},\"glyph\":{\"id\":\"3313\"},\"group\":null,\"hover_glyph\":null,\"muted_glyph\":{\"id\":\"3315\"},\"nonselection_glyph\":{\"id\":\"3314\"},\"view\":{\"id\":\"3317\"},\"y_range_name\":\"Profit\"},\"id\":\"3316\",\"type\":\"GlyphRenderer\"},{\"attributes\":{\"axis_label\":\"Profit\",\"coordinates\":null,\"formatter\":{\"id\":\"3523\"},\"group\":null,\"major_label_policy\":{\"id\":\"3524\"},\"ticker\":{\"id\":\"3522\"},\"y_range_name\":\"Profit\"},\"id\":\"3320\",\"type\":\"LinearAxis\"},{\"attributes\":{},\"id\":\"3532\",\"type\":\"UnionRenderers\"},{\"attributes\":{},\"id\":\"3524\",\"type\":\"AllLabels\"},{\"attributes\":{},\"id\":\"3318\",\"type\":\"Range1d\"},{\"attributes\":{},\"id\":\"3296\",\"type\":\"SaveTool\"},{\"attributes\":{},\"id\":\"3521\",\"type\":\"AllLabels\"},{\"attributes\":{\"coordinates\":null,\"group\":null,\"text\":\"Tradeoffs between Fairness Intervention & Profit\"},\"id\":\"3280\",\"type\":\"Title\"},{\"attributes\":{\"fill_color\":{\"value\":\"#ffca28\"},\"hatch_color\":{\"value\":\"#ffca28\"},\"line_color\":{\"value\":\"#ffca28\"},\"size\":{\"value\":7},\"x\":{\"field\":\"x\"},\"y\":{\"field\":\"y\"}},\"id\":\"3313\",\"type\":\"Circle\"},{\"attributes\":{\"format\":\"0 %\"},\"id\":\"3321\",\"type\":\"NumeralTickFormatter\"},{\"attributes\":{\"axis\":{\"id\":\"3289\"},\"coordinates\":null,\"grid_line_color\":null,\"group\":null,\"ticker\":null},\"id\":\"3291\",\"type\":\"Grid\"},{\"attributes\":{},\"id\":\"3523\",\"type\":\"BasicTickFormatter\"},{\"attributes\":{},\"id\":\"3287\",\"type\":\"LinearScale\"},{\"attributes\":{\"line_alpha\":0.2,\"line_color\":\"#ffca28\",\"line_width\":2,\"x\":{\"field\":\"x\"},\"y\":{\"field\":\"y\"}},\"id\":\"3309\",\"type\":\"Line\"},{\"attributes\":{},\"id\":\"3290\",\"type\":\"CategoricalTicker\"},{\"attributes\":{},\"id\":\"3533\",\"type\":\"Selection\"},{\"attributes\":{\"line_alpha\":0.1,\"line_color\":\"#ffca28\",\"line_width\":2,\"x\":{\"field\":\"x\"},\"y\":{\"field\":\"y\"}},\"id\":\"3308\",\"type\":\"Line\"},{\"attributes\":{},\"id\":\"3527\",\"type\":\"AllLabels\"},{\"attributes\":{},\"id\":\"3285\",\"type\":\"CategoricalScale\"},{\"attributes\":{\"axis\":{\"id\":\"3292\"},\"coordinates\":null,\"dimension\":1,\"group\":null,\"ticker\":null},\"id\":\"3295\",\"type\":\"Grid\"},{\"attributes\":{\"fill_alpha\":{\"value\":0.2},\"fill_color\":{\"field\":\"colours\"},\"hatch_alpha\":{\"value\":0.2},\"hatch_color\":{\"field\":\"colours\"},\"line_alpha\":{\"value\":0.2},\"line_color\":{\"field\":\"colours\"},\"top\":{\"field\":\"counts\"},\"width\":{\"value\":0.9},\"x\":{\"field\":\"x\"}},\"id\":\"3303\",\"type\":\"VBar\"},{\"attributes\":{\"data\":{\"x\":[\"MaxProfit\",\"GroupUnawareness\",\"DemographicParity\",\"EqualOpportunity\",\"EqualisedOdds\"],\"y\":[162,157,111,46,0]},\"selected\":{\"id\":\"3533\"},\"selection_policy\":{\"id\":\"3532\"}},\"id\":\"3312\",\"type\":\"ColumnDataSource\"},{\"attributes\":{},\"id\":\"3522\",\"type\":\"BasicTicker\"},{\"attributes\":{\"end\":194.4},\"id\":\"3319\",\"type\":\"Range1d\"},{\"attributes\":{\"source\":{\"id\":\"3312\"}},\"id\":\"3317\",\"type\":\"CDSView\"},{\"attributes\":{},\"id\":\"3528\",\"type\":\"UnionRenderers\"},{\"attributes\":{\"coordinates\":null,\"formatter\":{\"id\":\"3526\"},\"group\":null,\"major_label_orientation\":1,\"major_label_policy\":{\"id\":\"3527\"},\"ticker\":{\"id\":\"3290\"}},\"id\":\"3289\",\"type\":\"CategoricalAxis\"},{\"attributes\":{\"axis_label\":\"True Positive Rate (TPR)\",\"coordinates\":null,\"formatter\":{\"id\":\"3321\"},\"group\":null,\"major_label_policy\":{\"id\":\"3521\"},\"ticker\":{\"id\":\"3293\"}},\"id\":\"3292\",\"type\":\"LinearAxis\"}],\"root_ids\":[\"3279\"]},\"title\":\"Bokeh Application\",\"version\":\"2.4.3\"}};\n",
       "  const render_items = [{\"docid\":\"4e73985b-91f4-4bf7-b2a5-2ec1396b2b5b\",\"root_ids\":[\"3279\"],\"roots\":{\"3279\":\"e10f1a24-7b75-4651-96f7-de62ecf2d082\"}}];\n",
       "  root.Bokeh.embed.embed_items_notebook(docs_json, render_items);\n",
       "  }\n",
       "  if (root.Bokeh !== undefined) {\n",
       "    embed_document(root);\n",
       "  } else {\n",
       "    let attempts = 0;\n",
       "    const timer = setInterval(function(root) {\n",
       "      if (root.Bokeh !== undefined) {\n",
       "        clearInterval(timer);\n",
       "        embed_document(root);\n",
       "      } else {\n",
       "        attempts++;\n",
       "        if (attempts > 100) {\n",
       "          clearInterval(timer);\n",
       "          console.log(\"Bokeh: ERROR: Unable to run BokehJS code because BokehJS library is missing\");\n",
       "        }\n",
       "      }\n",
       "    }, 10, root)\n",
       "  }\n",
       "})(window);"
      ],
      "application/vnd.bokehjs_exec.v0+json": ""
     },
     "metadata": {
      "application/vnd.bokehjs_exec.v0+json": {
       "id": "3279"
      }
     },
     "output_type": "display_data"
    },
    {
     "data": {
      "text/html": [
       "\n",
       "  <div class=\"bk-root\" id=\"958fec92-1223-422a-ab75-db5dce9a169b\" data-root-id=\"3324\"></div>\n"
      ]
     },
     "metadata": {},
     "output_type": "display_data"
    },
    {
     "data": {
      "application/javascript": [
       "(function(root) {\n",
       "  function embed_document(root) {\n",
       "  const docs_json = {\"cf3a54bf-66e3-4be7-b86f-7487bff6af3d\":{\"defs\":[],\"roots\":{\"references\":[{\"attributes\":{\"below\":[{\"id\":\"3334\"}],\"center\":[{\"id\":\"3336\"},{\"id\":\"3340\"}],\"extra_y_ranges\":{\"Profit\":{\"id\":\"3364\"}},\"height\":300,\"left\":[{\"id\":\"3337\"}],\"renderers\":[{\"id\":\"3349\"},{\"id\":\"3355\"},{\"id\":\"3361\"}],\"right\":[{\"id\":\"3365\"}],\"title\":{\"id\":\"3325\"},\"toolbar\":{\"id\":\"3342\"},\"width\":700,\"x_range\":{\"id\":\"3323\"},\"x_scale\":{\"id\":\"3330\"},\"y_range\":{\"id\":\"3363\"},\"y_scale\":{\"id\":\"3332\"}},\"id\":\"3324\",\"subtype\":\"Figure\",\"type\":\"Plot\"},{\"attributes\":{\"coordinates\":null,\"data_source\":{\"id\":\"3344\"},\"glyph\":{\"id\":\"3346\"},\"group\":null,\"hover_glyph\":null,\"muted_glyph\":{\"id\":\"3348\"},\"nonselection_glyph\":{\"id\":\"3347\"},\"view\":{\"id\":\"3350\"}},\"id\":\"3349\",\"type\":\"GlyphRenderer\"},{\"attributes\":{\"factors\":[[\"MaxProfit\",\"18 and under\"],[\"MaxProfit\",\"over 18\"],[\"GroupUnawareness\",\"18 and under\"],[\"GroupUnawareness\",\"over 18\"],[\"DemographicParity\",\"18 and under\"],[\"DemographicParity\",\"over 18\"],[\"EqualOpportunity\",\"18 and under\"],[\"EqualOpportunity\",\"over 18\"],[\"EqualisedOdds\",\"18 and under\"],[\"EqualisedOdds\",\"over 18\"]],\"range_padding\":0.1},\"id\":\"3323\",\"type\":\"FactorRange\"},{\"attributes\":{\"line_alpha\":0.1,\"line_color\":\"#ffca28\",\"line_width\":2,\"x\":{\"field\":\"x\"},\"y\":{\"field\":\"y\"}},\"id\":\"3353\",\"type\":\"Line\"},{\"attributes\":{\"format\":\"0 %\"},\"id\":\"3366\",\"type\":\"NumeralTickFormatter\"},{\"attributes\":{\"fill_color\":{\"field\":\"colours\"},\"hatch_color\":{\"field\":\"colours\"},\"line_color\":{\"field\":\"colours\"},\"top\":{\"field\":\"counts\"},\"width\":{\"value\":0.9},\"x\":{\"field\":\"x\"}},\"id\":\"3346\",\"type\":\"VBar\"},{\"attributes\":{},\"id\":\"3786\",\"type\":\"Selection\"},{\"attributes\":{\"tools\":[{\"id\":\"3341\"}]},\"id\":\"3342\",\"type\":\"Toolbar\"},{\"attributes\":{\"data\":{\"colours\":[\"#8c9eff\",\"#536dfe\",\"#8c9eff\",\"#536dfe\",\"#8c9eff\",\"#536dfe\",\"#8c9eff\",\"#536dfe\",\"#8c9eff\",\"#536dfe\"],\"counts\":[0.0,0.001,0.014,0.001,0.014,0.003,0.014,0.005,0.0,0.0],\"profits\":[162,157,111,46,0],\"x\":[[\"MaxProfit\",\"18 and under\"],[\"MaxProfit\",\"over 18\"],[\"GroupUnawareness\",\"18 and under\"],[\"GroupUnawareness\",\"over 18\"],[\"DemographicParity\",\"18 and under\"],[\"DemographicParity\",\"over 18\"],[\"EqualOpportunity\",\"18 and under\"],[\"EqualOpportunity\",\"over 18\"],[\"EqualisedOdds\",\"18 and under\"],[\"EqualisedOdds\",\"over 18\"]]},\"selected\":{\"id\":\"3784\"},\"selection_policy\":{\"id\":\"3783\"}},\"id\":\"3344\",\"type\":\"ColumnDataSource\"},{\"attributes\":{\"fill_alpha\":{\"value\":0.2},\"fill_color\":{\"value\":\"#ffca28\"},\"hatch_alpha\":{\"value\":0.2},\"hatch_color\":{\"value\":\"#ffca28\"},\"line_alpha\":{\"value\":0.2},\"line_color\":{\"value\":\"#ffca28\"},\"size\":{\"value\":7},\"x\":{\"field\":\"x\"},\"y\":{\"field\":\"y\"}},\"id\":\"3360\",\"type\":\"Circle\"},{\"attributes\":{},\"id\":\"3787\",\"type\":\"UnionRenderers\"},{\"attributes\":{\"fill_alpha\":{\"value\":0.1},\"fill_color\":{\"field\":\"colours\"},\"hatch_alpha\":{\"value\":0.1},\"hatch_color\":{\"field\":\"colours\"},\"line_alpha\":{\"value\":0.1},\"line_color\":{\"field\":\"colours\"},\"top\":{\"field\":\"counts\"},\"width\":{\"value\":0.9},\"x\":{\"field\":\"x\"}},\"id\":\"3347\",\"type\":\"VBar\"},{\"attributes\":{\"axis\":{\"id\":\"3337\"},\"coordinates\":null,\"dimension\":1,\"group\":null,\"ticker\":null},\"id\":\"3340\",\"type\":\"Grid\"},{\"attributes\":{},\"id\":\"3785\",\"type\":\"UnionRenderers\"},{\"attributes\":{\"data\":{\"x\":[\"MaxProfit\",\"GroupUnawareness\",\"DemographicParity\",\"EqualOpportunity\",\"EqualisedOdds\"],\"y\":[162,157,111,46,0]},\"selected\":{\"id\":\"3788\"},\"selection_policy\":{\"id\":\"3787\"}},\"id\":\"3357\",\"type\":\"ColumnDataSource\"},{\"attributes\":{\"coordinates\":null,\"group\":null,\"text\":\"Tradeoffs between Fairness Intervention & Profit\"},\"id\":\"3325\",\"type\":\"Title\"},{\"attributes\":{\"source\":{\"id\":\"3357\"}},\"id\":\"3362\",\"type\":\"CDSView\"},{\"attributes\":{\"source\":{\"id\":\"3351\"}},\"id\":\"3356\",\"type\":\"CDSView\"},{\"attributes\":{},\"id\":\"3363\",\"type\":\"Range1d\"},{\"attributes\":{},\"id\":\"3788\",\"type\":\"Selection\"},{\"attributes\":{\"data\":{\"x\":[\"MaxProfit\",\"GroupUnawareness\",\"DemographicParity\",\"EqualOpportunity\",\"EqualisedOdds\"],\"y\":[162,157,111,46,0]},\"selected\":{\"id\":\"3786\"},\"selection_policy\":{\"id\":\"3785\"}},\"id\":\"3351\",\"type\":\"ColumnDataSource\"},{\"attributes\":{\"coordinates\":null,\"data_source\":{\"id\":\"3357\"},\"glyph\":{\"id\":\"3358\"},\"group\":null,\"hover_glyph\":null,\"muted_glyph\":{\"id\":\"3360\"},\"nonselection_glyph\":{\"id\":\"3359\"},\"view\":{\"id\":\"3362\"},\"y_range_name\":\"Profit\"},\"id\":\"3361\",\"type\":\"GlyphRenderer\"},{\"attributes\":{},\"id\":\"3778\",\"type\":\"BasicTickFormatter\"},{\"attributes\":{},\"id\":\"3330\",\"type\":\"CategoricalScale\"},{\"attributes\":{\"source\":{\"id\":\"3344\"}},\"id\":\"3350\",\"type\":\"CDSView\"},{\"attributes\":{},\"id\":\"3332\",\"type\":\"LinearScale\"},{\"attributes\":{},\"id\":\"3777\",\"type\":\"BasicTicker\"},{\"attributes\":{},\"id\":\"3784\",\"type\":\"Selection\"},{\"attributes\":{\"fill_color\":{\"value\":\"#ffca28\"},\"hatch_color\":{\"value\":\"#ffca28\"},\"line_color\":{\"value\":\"#ffca28\"},\"size\":{\"value\":7},\"x\":{\"field\":\"x\"},\"y\":{\"field\":\"y\"}},\"id\":\"3358\",\"type\":\"Circle\"},{\"attributes\":{\"axis_label\":\"Profit\",\"coordinates\":null,\"formatter\":{\"id\":\"3778\"},\"group\":null,\"major_label_policy\":{\"id\":\"3779\"},\"ticker\":{\"id\":\"3777\"},\"y_range_name\":\"Profit\"},\"id\":\"3365\",\"type\":\"LinearAxis\"},{\"attributes\":{},\"id\":\"3335\",\"type\":\"CategoricalTicker\"},{\"attributes\":{\"end\":194.4},\"id\":\"3364\",\"type\":\"Range1d\"},{\"attributes\":{\"coordinates\":null,\"formatter\":{\"id\":\"3781\"},\"group\":null,\"major_label_orientation\":1,\"major_label_policy\":{\"id\":\"3782\"},\"ticker\":{\"id\":\"3335\"}},\"id\":\"3334\",\"type\":\"CategoricalAxis\"},{\"attributes\":{\"line_alpha\":0.2,\"line_color\":\"#ffca28\",\"line_width\":2,\"x\":{\"field\":\"x\"},\"y\":{\"field\":\"y\"}},\"id\":\"3354\",\"type\":\"Line\"},{\"attributes\":{},\"id\":\"3783\",\"type\":\"UnionRenderers\"},{\"attributes\":{},\"id\":\"3779\",\"type\":\"AllLabels\"},{\"attributes\":{\"coordinates\":null,\"data_source\":{\"id\":\"3351\"},\"glyph\":{\"id\":\"3352\"},\"group\":null,\"hover_glyph\":null,\"muted_glyph\":{\"id\":\"3354\"},\"nonselection_glyph\":{\"id\":\"3353\"},\"view\":{\"id\":\"3356\"},\"y_range_name\":\"Profit\"},\"id\":\"3355\",\"type\":\"GlyphRenderer\"},{\"attributes\":{},\"id\":\"3776\",\"type\":\"AllLabels\"},{\"attributes\":{\"line_color\":\"#ffca28\",\"line_width\":2,\"x\":{\"field\":\"x\"},\"y\":{\"field\":\"y\"}},\"id\":\"3352\",\"type\":\"Line\"},{\"attributes\":{\"fill_alpha\":{\"value\":0.1},\"fill_color\":{\"value\":\"#ffca28\"},\"hatch_alpha\":{\"value\":0.1},\"hatch_color\":{\"value\":\"#ffca28\"},\"line_alpha\":{\"value\":0.1},\"line_color\":{\"value\":\"#ffca28\"},\"size\":{\"value\":7},\"x\":{\"field\":\"x\"},\"y\":{\"field\":\"y\"}},\"id\":\"3359\",\"type\":\"Circle\"},{\"attributes\":{},\"id\":\"3338\",\"type\":\"BasicTicker\"},{\"attributes\":{\"axis_label\":\"False Positive Rate (FPR)\",\"coordinates\":null,\"formatter\":{\"id\":\"3366\"},\"group\":null,\"major_label_policy\":{\"id\":\"3776\"},\"ticker\":{\"id\":\"3338\"}},\"id\":\"3337\",\"type\":\"LinearAxis\"},{\"attributes\":{},\"id\":\"3341\",\"type\":\"SaveTool\"},{\"attributes\":{},\"id\":\"3782\",\"type\":\"AllLabels\"},{\"attributes\":{\"axis\":{\"id\":\"3334\"},\"coordinates\":null,\"grid_line_color\":null,\"group\":null,\"ticker\":null},\"id\":\"3336\",\"type\":\"Grid\"},{\"attributes\":{},\"id\":\"3781\",\"type\":\"CategoricalTickFormatter\"},{\"attributes\":{\"fill_alpha\":{\"value\":0.2},\"fill_color\":{\"field\":\"colours\"},\"hatch_alpha\":{\"value\":0.2},\"hatch_color\":{\"field\":\"colours\"},\"line_alpha\":{\"value\":0.2},\"line_color\":{\"field\":\"colours\"},\"top\":{\"field\":\"counts\"},\"width\":{\"value\":0.9},\"x\":{\"field\":\"x\"}},\"id\":\"3348\",\"type\":\"VBar\"}],\"root_ids\":[\"3324\"]},\"title\":\"Bokeh Application\",\"version\":\"2.4.3\"}};\n",
       "  const render_items = [{\"docid\":\"cf3a54bf-66e3-4be7-b86f-7487bff6af3d\",\"root_ids\":[\"3324\"],\"roots\":{\"3324\":\"958fec92-1223-422a-ab75-db5dce9a169b\"}}];\n",
       "  root.Bokeh.embed.embed_items_notebook(docs_json, render_items);\n",
       "  }\n",
       "  if (root.Bokeh !== undefined) {\n",
       "    embed_document(root);\n",
       "  } else {\n",
       "    let attempts = 0;\n",
       "    const timer = setInterval(function(root) {\n",
       "      if (root.Bokeh !== undefined) {\n",
       "        clearInterval(timer);\n",
       "        embed_document(root);\n",
       "      } else {\n",
       "        attempts++;\n",
       "        if (attempts > 100) {\n",
       "          clearInterval(timer);\n",
       "          console.log(\"Bokeh: ERROR: Unable to run BokehJS code because BokehJS library is missing\");\n",
       "        }\n",
       "      }\n",
       "    }, 10, root)\n",
       "  }\n",
       "})(window);"
      ],
      "application/vnd.bokehjs_exec.v0+json": ""
     },
     "metadata": {
      "application/vnd.bokehjs_exec.v0+json": {
       "id": "3324"
      }
     },
     "output_type": "display_data"
    }
   ],
   "source": [
    "from bokeh.plotting import show\n",
    "from bokeh.io import output_notebook\n",
    "\n",
    "p = vf.plot_dual_axis_bar_line(\n",
    "    max_profits_intervention, \n",
    "    title=\"Tradeoffs between Fairness Intervention & Profit\",\n",
    "    groups_name='IntervationName', \n",
    "    bar_target_name_variable0='TruePositiveRate0', \n",
    "    bar_target_name_variable1=\"TruePositiveRate1\", \n",
    "    bar_variables=['18 and under', 'over 18'], \n",
    "    line_target_name='Profit', \n",
    "    left_axis_y_label='True Positive Rate (TPR)', \n",
    "    right_axis_y_label='Profit')\n",
    "\n",
    "p2 = vf.plot_dual_axis_bar_line(\n",
    "    max_profits_intervention, \n",
    "    title=\"Tradeoffs between Fairness Intervention & Profit\",\n",
    "    groups_name='IntervationName', \n",
    "    bar_target_name_variable0='FalsePositiveRate0', \n",
    "    bar_target_name_variable1=\"FalsePositiveRate1\", \n",
    "    bar_variables=['18 and under', 'over 18'], \n",
    "    line_target_name='Profit', \n",
    "    left_axis_y_label='False Positive Rate (FPR)', \n",
    "    right_axis_y_label='Profit')\n",
    "\n",
    "output_notebook()\n",
    "show(p)\n",
    "show(p2)"
   ]
  },
  {
   "cell_type": "markdown",
   "id": "7d9f2392",
   "metadata": {},
   "source": [
    "![image](images/fairness-tradeoffs.png)\n",
    "<div class=\"alert alert-block alert-success\">\n",
    "In the chart above, we can present to business various methods and their potential profit (represented by the yellow line). The profit function was set to heavily penalize false positives. The ideal fairness method for our dental use case would be \"Equalised Odds\", because it ensures both groups have the same false positive rate. However, in this case it is not ideal to try to achieve equalised odds because the FPR is already so low, and raising the threshold any further would detriment the value of the model.\n",
    "</div>"
   ]
  },
  {
   "cell_type": "markdown",
   "id": "ee268eca",
   "metadata": {},
   "source": [
    "### Part d: socioeconomic status"
   ]
  },
  {
   "cell_type": "markdown",
   "id": "e987865a",
   "metadata": {},
   "source": [
    "\n",
    "There is no available features or imputation methods for us to analyze socioeconomic status at the moment, so skipping this part ...\n"
   ]
  },
  {
   "cell_type": "markdown",
   "id": "6038a4a3",
   "metadata": {},
   "source": [
    "### Part e: geography"
   ]
  },
  {
   "cell_type": "code",
   "execution_count": 27,
   "id": "9d2cc7cf",
   "metadata": {},
   "outputs": [
    {
     "name": "stderr",
     "output_type": "stream",
     "text": [
      "Found 52 subgroups. Evaluation may be slow\n"
     ]
    },
    {
     "data": {
      "image/png": "[encoded data removed]",
      "text/plain": [
       "<Figure size 864x576 with 9 Axes>"
      ]
     },
     "metadata": {
      "needs_background": "light"
     },
     "output_type": "display_data"
    }
   ],
   "source": [
    "# pick out geography related features\n",
    "PRAD_STATE = xrays_metadata['PRAD_STATE']\n",
    "\n",
    "# Get metrics by PRAD_STATE\n",
    "get_metrics_by_group(metrics=metrics, group=PRAD_STATE, y_true=y_true, y_pred=y_pred)"
   ]
  },
  {
   "cell_type": "markdown",
   "id": "e730ef46",
   "metadata": {},
   "source": [
    "<div class=\"alert alert-block alert-success\">\n",
    "Although there is uneven selection rate between different states, as long as the false positive rates do not see imbalance at a significant margin then we are fine since it means that the model is not being affected by this feature.\n",
    "</div>"
   ]
  },
  {
   "cell_type": "markdown",
   "id": "6deefa24",
   "metadata": {},
   "source": [
    "### Part f: Other Sensitive Features\n",
    "It's worth exploring other features to see how your model might be impacted by it.\n",
    "\n",
    "<div class=\"alert alert-block alert-info\">\n",
    "Info: Just because a feature has bias, does not mean it is bad. In fact, your ML model benefits from learning the biases within the data. Only the biases that have ethical consequences should be mitigated.\n",
    "</div>"
   ]
  },
  {
   "cell_type": "code",
   "execution_count": 28,
   "id": "826888fa",
   "metadata": {},
   "outputs": [
    {
     "data": {
      "image/png": "[encoded data removed]",
      "text/plain": [
       "<Figure size 864x576 with 9 Axes>"
      ]
     },
     "metadata": {
      "needs_background": "light"
     },
     "output_type": "display_data"
    },
    {
     "data": {
      "image/png": "[encoded data removed]",
      "text/plain": [
       "<Figure size 864x576 with 9 Axes>"
      ]
     },
     "metadata": {
      "needs_background": "light"
     },
     "output_type": "display_data"
    },
    {
     "data": {
      "image/png": "[encoded data removed]",
      "text/plain": [
       "<Figure size 864x576 with 9 Axes>"
      ]
     },
     "metadata": {
      "needs_background": "light"
     },
     "output_type": "display_data"
    }
   ],
   "source": [
    "# pick out some other potential sensitive features\n",
    "LOB = xrays_metadata['LOB']\n",
    "PREAUTH_FLAG = xrays_metadata['PREAUTH_FLAG']\n",
    "Predicted_and_Known_Image_type = xrays_metadata['Predicted_and_Known_Image_type']\n",
    "\n",
    "# Get metrics by LOB\n",
    "get_metrics_by_group(metrics=metrics, group=LOB, y_true=y_true, y_pred=y_pred)\n",
    "# Get metrics by PREAUTH_FLAG\n",
    "get_metrics_by_group(metrics=metrics, group=PREAUTH_FLAG, y_true=y_true, y_pred=y_pred)\n",
    "# Get metrics by Predicted_and_Known_Image_type\n",
    "get_metrics_by_group(metrics=metrics, group=Predicted_and_Known_Image_type, y_true=y_true, y_pred=y_pred)\n"
   ]
  },
  {
   "cell_type": "markdown",
   "id": "3fbdf279",
   "metadata": {},
   "source": [
    "<div class=\"alert alert-block alert-success\">\n",
    "There is no significant difference between the FPRs for the above categories, so we do not need to worry.\n",
    "</div>"
   ]
  },
  {
   "cell_type": "markdown",
   "id": "d8359d52",
   "metadata": {},
   "source": [
    "## Section 3. Other toolings/frameworks to consider\n",
    "This notebook primarily uses Fairlearn for fairness testing. You can also perform some bias mitigation using fairlearn: https://fairlearn.org/v0.7.0/quickstart.html\n",
    "\n",
    "Here are just some of other tools for testing and mitigating biases in case you want to take this further:\n",
    "- FairML for assessing feature dependence: https://github.com/adebayoj/fairml\n",
    "- Google's Whatif tool for visually exploring biases: https://pair-code.github.io/what-if-tool/\n",
    "\n",
    "\n",
    "Open Source Datasets for benchmarking imputation/inference methods:\n",
    "- KBM AmeriLINK: https://uhgazure.sharepoint.com/sites/optumiqstudio/SitePages/Wunderman---KBM--AmeriLINK-.aspx\n",
    "- NHI Datasets: https://uhgazure.sharepoint.com/sites/optumiqstudio/SitePages/Data-User-Guides.aspx\n",
    "\n",
    "Python Libraries for Imputation:\n",
    "- Race Imputation: https://pypi.org/project/ethnicolr/\n",
    "- Gender Imputation: https://pypi.org/project/gender-guesser/"
   ]
  },
  {
   "cell_type": "code",
   "execution_count": null,
   "id": "fd18d281",
   "metadata": {},
   "outputs": [],
   "source": []
  }
 ],
 "metadata": {
  "kernelspec": {
   "display_name": "Python 3 (ipykernel)",
   "language": "python",
   "name": "python3"
  },
  "language_info": {
   "codemirror_mode": {
    "name": "ipython",
    "version": 3
   },
   "file_extension": ".py",
   "mimetype": "text/x-python",
   "name": "python",
   "nbconvert_exporter": "python",
   "pygments_lexer": "ipython3",
   "version": "3.7.4"
  }
 },
 "nbformat": 4,
 "nbformat_minor": 5
}
